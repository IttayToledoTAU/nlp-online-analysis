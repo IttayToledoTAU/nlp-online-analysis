{
 "cells": [
  {
   "cell_type": "code",
   "execution_count": 19,
   "metadata": {},
   "outputs": [],
   "source": [
    "from pandas import DataFrame, read_csv\n",
    "import torch\n",
    "from transformers import BertTokenizer, BertModel, BertForTokenClassification\n",
    "import dovpanda"
   ]
  },
  {
   "cell_type": "code",
   "execution_count": 15,
   "metadata": {},
   "outputs": [
    {
     "name": "stdout",
     "output_type": "stream",
     "text": [
      "data loaded\n",
      "removed whitespaces\n"
     ]
    }
   ],
   "source": [
    "data = read_csv('fxpfinal.csv', encoding='cp1255')\n",
    "print(\"data loaded\")\n",
    "data['post'] = data['post'].str.replace('\\n', ' ').str.replace('\\r', ' ')\n",
    "print(\"removed whitespaces\")\n",
    "posts = data['post'].squeeze().values.tolist()"
   ]
  },
  {
   "cell_type": "code",
   "execution_count": 4,
   "metadata": {},
   "outputs": [
    {
     "name": "stdout",
     "output_type": "stream",
     "text": [
      "loaded tokenizer\n",
      "tokenization started\n",
      "tokenization ended\n"
     ]
    }
   ],
   "source": [
    "tokenizer = BertTokenizer.from_pretrained('bert-base-multilingual-cased')\n",
    "print(\"loaded tokenizer\")\n",
    "print(\"tokenization started\")\n",
    "tokenized_text = tokenizer.tokenize(data[0])\n",
    "print(\"tokenization ended\")"
   ]
  },
  {
   "cell_type": "code",
   "execution_count": 5,
   "metadata": {},
   "outputs": [
    {
     "data": {
      "text/plain": [
       "['כמה',\n",
       " 'ש',\n",
       " '##אלו',\n",
       " '##ת',\n",
       " 'על',\n",
       " 'מדיניות',\n",
       " 'ה',\n",
       " '##משטרה',\n",
       " ',',\n",
       " 'מ',\n",
       " '##ח',\n",
       " '##פש',\n",
       " 'מי',\n",
       " '##שהו',\n",
       " 'מ',\n",
       " '##בי',\n",
       " '##פנים',\n",
       " 'ש',\n",
       " '##מ',\n",
       " '##בין',\n",
       " '.']"
      ]
     },
     "execution_count": 5,
     "metadata": {},
     "output_type": "execute_result"
    }
   ],
   "source": [
    "tokenized_text"
   ]
  },
  {
   "cell_type": "code",
   "execution_count": 20,
   "metadata": {},
   "outputs": [],
   "source": [
    "model = BertForTokenClassification.from_pretrained('bert-base-multilingual-cased')"
   ]
  },
  {
   "cell_type": "code",
   "execution_count": null,
   "metadata": {},
   "outputs": [],
   "source": []
  }
 ],
 "metadata": {
  "kernelspec": {
   "display_name": "Python 3.6 - AzureML",
   "language": "python",
   "name": "python3-azureml"
  },
  "language_info": {
   "codemirror_mode": {
    "name": "ipython",
    "version": 3
   },
   "file_extension": ".py",
   "mimetype": "text/x-python",
   "name": "python",
   "nbconvert_exporter": "python",
   "pygments_lexer": "ipython3",
   "version": "3.6.9"
  }
 },
 "nbformat": 4,
 "nbformat_minor": 4
}
