{
 "cells": [
  {
   "cell_type": "code",
   "execution_count": 1,
   "metadata": {},
   "outputs": [],
   "source": [
    "from urllib.request import urlopen, Request\n",
    "from lxml import html\n",
    "import pandas as pd\n",
    "from datetime import datetime\n",
    "import re\n",
    "import concurrent.futures"
   ]
  },
  {
   "cell_type": "code",
   "execution_count": 2,
   "metadata": {},
   "outputs": [],
   "source": [
    "headers = {'User-Agent': 'Mozilla/5.0 (Windows NT 6.1) AppleWebKit/537.36 \\\n",
    "    (KHTML, like Gecko) Chrome/41.0.2228.0 Safari/537.3'}"
   ]
  },
  {
   "cell_type": "code",
   "execution_count": 3,
   "metadata": {},
   "outputs": [],
   "source": [
    "def thread_ids(pages, verbose=True):\n",
    "    print('Fetching pages...')\n",
    "    count = 0\n",
    "    thread_ids = []\n",
    "    for i in pages:\n",
    "        request = Request(url='https://www.fxp.co.il/forumdisplay.php?f=46&page=%s' % i,\n",
    "                          headers=headers)\n",
    "        tree = html.fromstring(urlopen(request).read().decode('utf-8'))\n",
    "\n",
    "        # slice [7:] to eliminate prefix\n",
    "        thread_ids += [int(x[7:]) for x\n",
    "                       in tree.xpath('//ol[@id=\\'threads\\']/li/@id')]\n",
    "\n",
    "        count += 1\n",
    "        if verbose and (count % 10 == 0):\n",
    "            print('Fetched %s pages' % (count))\n",
    "            print(datetime.now().time())\n",
    "    print(pd.Series(thread_ids).value_counts().head(20))\n",
    "    return list(set(thread_ids))\n"
   ]
  },
  {
   "cell_type": "code",
   "execution_count": 4,
   "metadata": {},
   "outputs": [],
   "source": [
    "def page_content(thread_id):\n",
    "    #print(f'starting fetch {thread_id}')\n",
    "    df_new = pd.DataFrame(columns=['thread', 'post'])\n",
    "    request = Request(\n",
    "            url='https://www.fxp.co.il/showthread.php?t=%s' %\n",
    "            (thread_id),\n",
    "            headers=headers)\n",
    "    \n",
    "    tree = html.fromstring(urlopen(request).read().decode('utf-8'))\n",
    "    title = tree.xpath('//div[@class=\\'titleshowt greengr\\']/h1/text()')\n",
    "    df_new.append({'thread': thread_id, 'post': title[0]},\n",
    "              ignore_index=True)\n",
    "    \n",
    "    messages = tree.xpath('//div[@id=\\'postlist\\']//blockquote\\\n",
    "        [@class=\\'postcontent restore\\']')\n",
    "    for m in messages:\n",
    "        message_text = ' '.join(m.xpath('./text()'))\n",
    "        df_new = df_new.append({'thread': thread_id, 'post': message_text},\n",
    "                       ignore_index=True)\n",
    "    last_page = tree.xpath('//span[@class=\\'first_last\\']/a/@href')\n",
    "    if len(last_page) > 0:\n",
    "        last_page = last_page[0]\n",
    "        last_page = int(re.search('page=([0-9]+)', last_page).group(1))\n",
    "        for j in range(2, last_page + 1):\n",
    "            request = Request(\n",
    "                url='https://www.fxp.co.il/showthread.php?t=%s&page=%s' %\n",
    "                (thread_id, j),\n",
    "                headers=headers)\n",
    "            tree = html.fromstring(urlopen(request).read().decode('utf-8'))\n",
    "            messages = tree.xpath('//div[@id=\\'postlist\\']//\\\n",
    "                blockquote[@class=\\'postcontent restore\\']')\n",
    "            for m in messages:\n",
    "                message_text = ' '.join(m.xpath('./text()'))\n",
    "                df_new = df_new.append({'thread': thread_id, 'post': message_text},\n",
    "                               ignore_index=True)\n",
    "    return df_new"
   ]
  },
  {
   "cell_type": "code",
   "execution_count": 5,
   "metadata": {},
   "outputs": [],
   "source": [
    "def thread_content(thread_ids, file, verbose=True):\n",
    "    print('Fetching threads...')\n",
    "    count = 0\n",
    "    with concurrent.futures.ThreadPoolExecutor(max_workers=len(thread_ids)) as executor:\n",
    "        future_to_url = {executor.submit(page_content, thread_id): thread_id for thread_id in thread_ids}\n",
    "        print(f'finish to sumbit all jobs')\n",
    "        df = pd.DataFrame(columns=['thread', 'post'])\n",
    "        for future in concurrent.futures.as_completed(future_to_url):\n",
    "            df_new=future.result()\n",
    "            df = pd.concat([df,df_new])\n",
    "            count += 1\n",
    "    df.to_csv(file, encoding='utf-8')"
   ]
  },
  {
   "cell_type": "code",
   "execution_count": 6,
   "metadata": {
    "scrolled": true
   },
   "outputs": [
    {
     "name": "stdout",
     "output_type": "stream",
     "text": [
      "Fetching pages...\n",
      "20168007    1\n",
      "20168907    1\n",
      "20169039    1\n",
      "20157551    1\n",
      "20168729    1\n",
      "20169125    1\n",
      "20167142    1\n",
      "20163704    1\n",
      "20169160    1\n",
      "20165737    1\n",
      "20169131    1\n",
      "20169164    1\n",
      "20169081    1\n",
      "20167136    1\n",
      "20169135    1\n",
      "20168839    1\n",
      "20168748    1\n",
      "20168499    1\n",
      "20168566    1\n",
      "20168695    1\n",
      "dtype: int64\n",
      "Fetching threads...\n",
      "finish to sumbit all jobs\n",
      "Wall time: 12.9 s\n"
     ]
    }
   ],
   "source": [
    "%time thread_content(thread_ids(range(1, 2)), '1to240.csv')"
   ]
  }
 ],
 "metadata": {
  "kernelspec": {
   "display_name": "Python 3",
   "language": "python",
   "name": "python3"
  },
  "language_info": {
   "codemirror_mode": {
    "name": "ipython",
    "version": 3
   },
   "file_extension": ".py",
   "mimetype": "text/x-python",
   "name": "python",
   "nbconvert_exporter": "python",
   "pygments_lexer": "ipython3",
   "version": "3.6.10"
  }
 },
 "nbformat": 4,
 "nbformat_minor": 4
}
